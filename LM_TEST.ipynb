{
  "nbformat": 4,
  "nbformat_minor": 0,
  "metadata": {
    "colab": {
      "provenance": [],
      "authorship_tag": "ABX9TyNdgFnqw/bFMj9mdEeQXhck",
      "include_colab_link": true
    },
    "kernelspec": {
      "name": "python3",
      "display_name": "Python 3"
    },
    "language_info": {
      "name": "python"
    }
  },
  "cells": [
    {
      "cell_type": "markdown",
      "metadata": {
        "id": "view-in-github",
        "colab_type": "text"
      },
      "source": [
        "<a href=\"https://colab.research.google.com/github/Tony-Seo/HY_LM/blob/main/LM_TEST.ipynb\" target=\"_parent\"><img src=\"https://colab.research.google.com/assets/colab-badge.svg\" alt=\"Open In Colab\"/></a>"
      ]
    },
    {
      "cell_type": "code",
      "execution_count": null,
      "metadata": {
        "colab": {
          "base_uri": "https://localhost:8080/"
        },
        "id": "lNyPUOSSpzH3",
        "outputId": "7775e373-18e4-497b-c5c4-39e070df8b99"
      },
      "outputs": [
        {
          "output_type": "stream",
          "name": "stdout",
          "text": [
            "49\n",
            "python is exciting\n"
          ]
        }
      ],
      "source": [
        "print(12+37)\n",
        "print('python' + ' is exciting')"
      ]
    },
    {
      "cell_type": "code",
      "source": [
        "import random\n",
        "\n",
        "a=random.randint(10,20)\n",
        "b=random.randint(10,20)\n",
        "\n",
        "c=a+b\n",
        "print(a,b,c)"
      ],
      "metadata": {
        "colab": {
          "base_uri": "https://localhost:8080/"
        },
        "id": "bWMMib7zrbDl",
        "outputId": "ca0cc701-c758-495b-9daa-5783aa1ea335"
      },
      "execution_count": null,
      "outputs": [
        {
          "output_type": "stream",
          "name": "stdout",
          "text": [
            "12 19 31\n"
          ]
        }
      ]
    },
    {
      "cell_type": "code",
      "source": [
        "import numpy as np\n",
        "a = np.array([1,2,3,4])\n",
        "print(a)\n",
        "\n",
        "print(a.shape)\n",
        "print(a.ndim)\n",
        "print(a.dtype)\n",
        "print(a.itemsize)\n",
        "print(a.size)"
      ],
      "metadata": {
        "colab": {
          "base_uri": "https://localhost:8080/"
        },
        "id": "JL6Y5cyXsJpC",
        "outputId": "202ea078-a929-4a99-f957-807ea789724e"
      },
      "execution_count": null,
      "outputs": [
        {
          "output_type": "stream",
          "name": "stdout",
          "text": [
            "[1 2 3 4]\n",
            "(4,)\n",
            "1\n",
            "int64\n",
            "8\n",
            "4\n"
          ]
        }
      ]
    },
    {
      "cell_type": "code",
      "source": [
        "#실습 : ndarray 객체 생성하기\n",
        "\n",
        "import numpy as np\n",
        "a = np.array([i for i in range(10)])\n",
        "b = np.array([i for i in range(10) if i % 2 == 0])\n",
        "print(a)\n",
        "print(b)\n",
        "print(a.max())\n",
        "print(a.min())\n",
        "print(a.mean())\n",
        "print(b.shape)\n",
        "print(b.ndim)\n",
        "print(b.dtype)\n",
        "print(b.itemsize)\n",
        "print(b.size)\n"
      ],
      "metadata": {
        "colab": {
          "base_uri": "https://localhost:8080/"
        },
        "id": "6HtGEs8n0vZD",
        "outputId": "5796bdbd-7521-4f35-aa6b-5e6a285c97fd"
      },
      "execution_count": null,
      "outputs": [
        {
          "output_type": "stream",
          "name": "stdout",
          "text": [
            "[0 1 2 3 4 5 6 7 8 9]\n",
            "[0 2 4 6 8]\n",
            "9\n",
            "0\n",
            "4.5\n",
            "(5,)\n",
            "1\n",
            "int64\n",
            "8\n",
            "5\n"
          ]
        }
      ]
    },
    {
      "cell_type": "code",
      "source": [
        "import numpy as np\n",
        "\n",
        "a = np.array([[1,1],[2,2],[3,3]])\n",
        "print(a)\n",
        "print(a.flatten())"
      ],
      "metadata": {
        "colab": {
          "base_uri": "https://localhost:8080/"
        },
        "id": "SVLLAr-U2Ue4",
        "outputId": "3c57b73f-b6e9-47b1-d735-e9ead8b0d1f1"
      },
      "execution_count": null,
      "outputs": [
        {
          "output_type": "stream",
          "name": "stdout",
          "text": [
            "[[1 1]\n",
            " [2 2]\n",
            " [3 3]]\n",
            "[1 1 2 2 3 3]\n"
          ]
        }
      ]
    },
    {
      "cell_type": "code",
      "source": [
        "#실습 : 최댓값,최솟값,평균 구하기\n",
        "\n",
        "import numpy as np\n",
        "\n",
        "a = np.array(np.random.randint(0, 99, size = 10))\n",
        "print(a)\n",
        "print(a.max())\n",
        "print(a.min())\n",
        "print(a.mean())"
      ],
      "metadata": {
        "colab": {
          "base_uri": "https://localhost:8080/"
        },
        "id": "qYve-pnu3Lc5",
        "outputId": "acc2a399-27cd-431e-d0f7-50b46be531d8"
      },
      "execution_count": null,
      "outputs": [
        {
          "output_type": "stream",
          "name": "stdout",
          "text": [
            "[56  6 92 40 34 40 55 72 39 38]\n",
            "92\n",
            "6\n",
            "47.2\n"
          ]
        }
      ]
    },
    {
      "cell_type": "code",
      "source": [
        "import numpy as np\n",
        "\n",
        "a = np.array([1,2,3])\n",
        "b = np.array([4,5,6])\n",
        "c = a+b;\n",
        "print(a, b, c)\n",
        "\n",
        "aa =np.array([1,2])\n",
        "bb = np.array([3,4,5])\n",
        "#cc = aa+bb;\n",
        "#print(aa, bb, cc)"
      ],
      "metadata": {
        "colab": {
          "base_uri": "https://localhost:8080/",
          "height": 216
        },
        "id": "90xiPGmX3yj9",
        "outputId": "97a2a96e-8283-4614-9577-03cf17026fa9"
      },
      "execution_count": null,
      "outputs": [
        {
          "output_type": "stream",
          "name": "stdout",
          "text": [
            "[1 2 3] [4 5 6] [5 7 9]\n"
          ]
        },
        {
          "output_type": "error",
          "ename": "ValueError",
          "evalue": "operands could not be broadcast together with shapes (2,) (3,) ",
          "traceback": [
            "\u001b[0;31m---------------------------------------------------------------------------\u001b[0m",
            "\u001b[0;31mValueError\u001b[0m                                Traceback (most recent call last)",
            "\u001b[0;32m<ipython-input-24-e31b2f256cd6>\u001b[0m in \u001b[0;36m<cell line: 0>\u001b[0;34m()\u001b[0m\n\u001b[1;32m      8\u001b[0m \u001b[0maa\u001b[0m \u001b[0;34m=\u001b[0m\u001b[0mnp\u001b[0m\u001b[0;34m.\u001b[0m\u001b[0marray\u001b[0m\u001b[0;34m(\u001b[0m\u001b[0;34m[\u001b[0m\u001b[0;36m1\u001b[0m\u001b[0;34m,\u001b[0m\u001b[0;36m2\u001b[0m\u001b[0;34m]\u001b[0m\u001b[0;34m)\u001b[0m\u001b[0;34m\u001b[0m\u001b[0;34m\u001b[0m\u001b[0m\n\u001b[1;32m      9\u001b[0m \u001b[0mbb\u001b[0m \u001b[0;34m=\u001b[0m \u001b[0mnp\u001b[0m\u001b[0;34m.\u001b[0m\u001b[0marray\u001b[0m\u001b[0;34m(\u001b[0m\u001b[0;34m[\u001b[0m\u001b[0;36m3\u001b[0m\u001b[0;34m,\u001b[0m\u001b[0;36m4\u001b[0m\u001b[0;34m,\u001b[0m\u001b[0;36m5\u001b[0m\u001b[0;34m]\u001b[0m\u001b[0;34m)\u001b[0m\u001b[0;34m\u001b[0m\u001b[0;34m\u001b[0m\u001b[0m\n\u001b[0;32m---> 10\u001b[0;31m \u001b[0mcc\u001b[0m \u001b[0;34m=\u001b[0m \u001b[0maa\u001b[0m\u001b[0;34m+\u001b[0m\u001b[0mbb\u001b[0m\u001b[0;34m;\u001b[0m\u001b[0;34m\u001b[0m\u001b[0;34m\u001b[0m\u001b[0m\n\u001b[0m\u001b[1;32m     11\u001b[0m \u001b[0mprint\u001b[0m\u001b[0;34m(\u001b[0m\u001b[0maa\u001b[0m\u001b[0;34m,\u001b[0m \u001b[0mbb\u001b[0m\u001b[0;34m,\u001b[0m \u001b[0mcc\u001b[0m\u001b[0;34m)\u001b[0m\u001b[0;34m\u001b[0m\u001b[0;34m\u001b[0m\u001b[0m\n",
            "\u001b[0;31mValueError\u001b[0m: operands could not be broadcast together with shapes (2,) (3,) "
          ]
        }
      ]
    },
    {
      "cell_type": "code",
      "source": [
        "import numpy as np\n",
        "\n",
        "a = np.array([[1,2],[3,4]])\n",
        "print(a+1)\n",
        "print(a-1)\n",
        "print(a*100)\n",
        "print(a/100)\n",
        "print(a**2)\n",
        "print(a%2)"
      ],
      "metadata": {
        "colab": {
          "base_uri": "https://localhost:8080/"
        },
        "id": "d69vKyPr5EoH",
        "outputId": "e375815d-aa72-4d97-8cd9-576990c8ca14"
      },
      "execution_count": null,
      "outputs": [
        {
          "output_type": "stream",
          "name": "stdout",
          "text": [
            "[[2 3]\n",
            " [4 5]]\n",
            "[[0 1]\n",
            " [2 3]]\n",
            "[[100 200]\n",
            " [300 400]]\n",
            "[[0.01 0.02]\n",
            " [0.03 0.04]]\n",
            "[[ 1  4]\n",
            " [ 9 16]]\n",
            "[[1 0]\n",
            " [1 0]]\n"
          ]
        }
      ]
    },
    {
      "cell_type": "code",
      "source": [
        "import numpy as np\n",
        "\n",
        "print(np.zeros((2,3)))\n",
        "print(np.ones((2,3)))\n",
        "print(np.full((2,3),7))\n",
        "print(np.eye(3))"
      ],
      "metadata": {
        "colab": {
          "base_uri": "https://localhost:8080/"
        },
        "id": "4gRHKm_E5YmZ",
        "outputId": "33b30182-2882-464f-fc68-33556090f929"
      },
      "execution_count": null,
      "outputs": [
        {
          "output_type": "stream",
          "name": "stdout",
          "text": [
            "[[0. 0. 0.]\n",
            " [0. 0. 0.]]\n",
            "[[1. 1. 1.]\n",
            " [1. 1. 1.]]\n",
            "[[7 7 7]\n",
            " [7 7 7]]\n",
            "[[1. 0. 0.]\n",
            " [0. 1. 0.]\n",
            " [0. 0. 1.]]\n"
          ]
        }
      ]
    },
    {
      "cell_type": "code",
      "source": [
        "import numpy as np\n",
        "\n",
        "#print(np.random.random((2,3)))\n",
        "\n",
        "#print(np.arange(0,10))\n",
        "#print(np.arange(0,10,2))\n",
        "\n",
        "#print(np.linspace(0,10,3))\n",
        "\n",
        "a = np.arange(0,10).reshape(2,5)\n",
        "print(a)\n",
        "\n",
        "print(np.transpose(a))\n",
        "print(a.reshape(5,2))"
      ],
      "metadata": {
        "colab": {
          "base_uri": "https://localhost:8080/"
        },
        "id": "5b7K57CR56EN",
        "outputId": "d92feec5-b2df-4da3-eb67-c2581e854b7d"
      },
      "execution_count": null,
      "outputs": [
        {
          "output_type": "stream",
          "name": "stdout",
          "text": [
            "[[0 1 2 3 4]\n",
            " [5 6 7 8 9]]\n",
            "[[0 5]\n",
            " [1 6]\n",
            " [2 7]\n",
            " [3 8]\n",
            " [4 9]]\n",
            "[[0 1]\n",
            " [2 3]\n",
            " [4 5]\n",
            " [6 7]\n",
            " [8 9]]\n"
          ]
        }
      ]
    },
    {
      "cell_type": "code",
      "source": [
        "from sklearn.neighbors import KNeighborsClassifier\n",
        "\n",
        "bream_length = [\n",
        "    25.4, 26.3, 26.5, 29.0, 29.0, 29.7, 29.7, 30.0, 30.0, 30.7,\n",
        "    31.0, 31.0, 31.5, 32.0, 32.0, 32.0, 33.0, 33.0, 33.5, 33.5,\n",
        "    34.0, 34.0, 34.5, 35.0, 35.0, 35.0, 36.0, 36.0, 37.0, 38.5,\n",
        "    38.5, 39.5, 41.0, 41.0, 42.0\n",
        "]\n",
        "bream_weight = [\n",
        "     242,  290,  340,  363,  430,  450,  500,  390,  450,  500,\n",
        "     475,  500,  500,  340,  600,  600,  700,  700,  610,  650,\n",
        "     575,  685,  620,  680,  700,  725,  720,  714,  850, 1000,\n",
        "     920,  955,  925,  975,  950\n",
        "]\n",
        "\n",
        "smelt_length = [\n",
        "     9.8, 10.5, 10.6, 11.0, 11.2, 11.3, 11.8,\n",
        "    11.8, 12.0, 12.2, 12.4, 13.0, 14.3, 15.0\n",
        "]\n",
        "smelt_weight = [\n",
        "     6.7,  7.5,  7.0,  9.7,  9.8,  8.7, 10.0,\n",
        "     9.9,  9.8, 12.2, 13.4, 12.2, 19.7, 19.9\n",
        "]\n",
        "\n",
        "length = bream_length + smelt_length\n",
        "weight = bream_weight + smelt_weight\n",
        "\n",
        "fish_data = [[l, w] for l, w in zip(length, weight)]\n",
        "fish_target = [1] * len(bream_length) + [0] * len(smelt_length)\n",
        "\n",
        "kn = KNeighborsClassifier(n_neighbors=5)\n",
        "kn.fit(fish_data, fish_target)\n",
        "print(kn.score(fish_data, fish_target))"
      ],
      "metadata": {
        "colab": {
          "base_uri": "https://localhost:8080/"
        },
        "id": "csA7AbQ4pjPN",
        "outputId": "cb5a4f3d-e434-4587-c25e-e22fc1b9c6b2"
      },
      "execution_count": null,
      "outputs": [
        {
          "output_type": "stream",
          "name": "stdout",
          "text": [
            "1.0\n"
          ]
        }
      ]
    },
    {
      "cell_type": "code",
      "source": [
        "import numpy as np\n",
        "\n",
        "np.array([1, 'two', 3, 4])"
      ],
      "metadata": {
        "colab": {
          "base_uri": "https://localhost:8080/"
        },
        "id": "EJmMKB2nBKK8",
        "outputId": "cdbbce09-9650-496c-8c1a-9cdb4bc62e0c"
      },
      "execution_count": null,
      "outputs": [
        {
          "output_type": "execute_result",
          "data": {
            "text/plain": [
              "array(['1', 'two', '3', '4'], dtype='<U21')"
            ]
          },
          "metadata": {},
          "execution_count": 1
        }
      ]
    },
    {
      "cell_type": "code",
      "source": [
        "np.array([1, 'two', 3, 4], dtype = np.int32)"
      ],
      "metadata": {
        "colab": {
          "base_uri": "https://localhost:8080/",
          "height": 147
        },
        "id": "QnbKtM8NB9vJ",
        "outputId": "44b286f7-ea04-40be-a516-1f6ec109b43c"
      },
      "execution_count": null,
      "outputs": [
        {
          "output_type": "error",
          "ename": "ValueError",
          "evalue": "invalid literal for int() with base 10: 'two'",
          "traceback": [
            "\u001b[0;31m---------------------------------------------------------------------------\u001b[0m",
            "\u001b[0;31mValueError\u001b[0m                                Traceback (most recent call last)",
            "\u001b[0;32m<ipython-input-2-221b5d4fa244>\u001b[0m in \u001b[0;36m<cell line: 0>\u001b[0;34m()\u001b[0m\n\u001b[0;32m----> 1\u001b[0;31m \u001b[0mnp\u001b[0m\u001b[0;34m.\u001b[0m\u001b[0marray\u001b[0m\u001b[0;34m(\u001b[0m\u001b[0;34m[\u001b[0m\u001b[0;36m1\u001b[0m\u001b[0;34m,\u001b[0m \u001b[0;34m'two'\u001b[0m\u001b[0;34m,\u001b[0m \u001b[0;36m3\u001b[0m\u001b[0;34m,\u001b[0m \u001b[0;36m4\u001b[0m\u001b[0;34m]\u001b[0m\u001b[0;34m,\u001b[0m \u001b[0mdtype\u001b[0m \u001b[0;34m=\u001b[0m \u001b[0mnp\u001b[0m\u001b[0;34m.\u001b[0m\u001b[0mint32\u001b[0m\u001b[0;34m)\u001b[0m\u001b[0;34m\u001b[0m\u001b[0;34m\u001b[0m\u001b[0m\n\u001b[0m",
            "\u001b[0;31mValueError\u001b[0m: invalid literal for int() with base 10: 'two'"
          ]
        }
      ]
    },
    {
      "cell_type": "code",
      "source": [
        "a = np.array([1,2,3])\n",
        "b = np.array([[4,5,6],[7,8,9]])\n",
        "print(np.append(a,b))\n",
        "print(np.append([a],b, axis = 0))\n",
        "b = np.array([4,5,6])\n",
        "print(np.append(a,b, axis = 1))"
      ],
      "metadata": {
        "colab": {
          "base_uri": "https://localhost:8080/",
          "height": 386
        },
        "id": "lhuQKlzjDHy_",
        "outputId": "2f55330a-473b-4c42-f896-4f032a22d627"
      },
      "execution_count": null,
      "outputs": [
        {
          "output_type": "stream",
          "name": "stdout",
          "text": [
            "[1 2 3 4 5 6 7 8 9]\n",
            "[[1 2 3]\n",
            " [4 5 6]\n",
            " [7 8 9]]\n"
          ]
        },
        {
          "output_type": "error",
          "ename": "AxisError",
          "evalue": "axis 1 is out of bounds for array of dimension 1",
          "traceback": [
            "\u001b[0;31m---------------------------------------------------------------------------\u001b[0m",
            "\u001b[0;31mAxisError\u001b[0m                                 Traceback (most recent call last)",
            "\u001b[0;32m<ipython-input-12-5c41f012dcbc>\u001b[0m in \u001b[0;36m<cell line: 0>\u001b[0;34m()\u001b[0m\n\u001b[1;32m      4\u001b[0m \u001b[0mprint\u001b[0m\u001b[0;34m(\u001b[0m\u001b[0mnp\u001b[0m\u001b[0;34m.\u001b[0m\u001b[0mappend\u001b[0m\u001b[0;34m(\u001b[0m\u001b[0;34m[\u001b[0m\u001b[0ma\u001b[0m\u001b[0;34m]\u001b[0m\u001b[0;34m,\u001b[0m\u001b[0mb\u001b[0m\u001b[0;34m,\u001b[0m \u001b[0maxis\u001b[0m \u001b[0;34m=\u001b[0m \u001b[0;36m0\u001b[0m\u001b[0;34m)\u001b[0m\u001b[0;34m)\u001b[0m\u001b[0;34m\u001b[0m\u001b[0;34m\u001b[0m\u001b[0m\n\u001b[1;32m      5\u001b[0m \u001b[0mb\u001b[0m \u001b[0;34m=\u001b[0m \u001b[0mnp\u001b[0m\u001b[0;34m.\u001b[0m\u001b[0marray\u001b[0m\u001b[0;34m(\u001b[0m\u001b[0;34m[\u001b[0m\u001b[0;36m4\u001b[0m\u001b[0;34m,\u001b[0m\u001b[0;36m5\u001b[0m\u001b[0;34m,\u001b[0m\u001b[0;36m6\u001b[0m\u001b[0;34m]\u001b[0m\u001b[0;34m)\u001b[0m\u001b[0;34m\u001b[0m\u001b[0;34m\u001b[0m\u001b[0m\n\u001b[0;32m----> 6\u001b[0;31m \u001b[0mprint\u001b[0m\u001b[0;34m(\u001b[0m\u001b[0mnp\u001b[0m\u001b[0;34m.\u001b[0m\u001b[0mappend\u001b[0m\u001b[0;34m(\u001b[0m\u001b[0ma\u001b[0m\u001b[0;34m,\u001b[0m\u001b[0mb\u001b[0m\u001b[0;34m,\u001b[0m \u001b[0maxis\u001b[0m \u001b[0;34m=\u001b[0m \u001b[0;36m1\u001b[0m\u001b[0;34m)\u001b[0m\u001b[0;34m)\u001b[0m\u001b[0;34m\u001b[0m\u001b[0;34m\u001b[0m\u001b[0m\n\u001b[0m",
            "\u001b[0;32m/usr/local/lib/python3.11/dist-packages/numpy/lib/_function_base_impl.py\u001b[0m in \u001b[0;36mappend\u001b[0;34m(arr, values, axis)\u001b[0m\n\u001b[1;32m   5819\u001b[0m         \u001b[0mvalues\u001b[0m \u001b[0;34m=\u001b[0m \u001b[0mravel\u001b[0m\u001b[0;34m(\u001b[0m\u001b[0mvalues\u001b[0m\u001b[0;34m)\u001b[0m\u001b[0;34m\u001b[0m\u001b[0;34m\u001b[0m\u001b[0m\n\u001b[1;32m   5820\u001b[0m         \u001b[0maxis\u001b[0m \u001b[0;34m=\u001b[0m \u001b[0marr\u001b[0m\u001b[0;34m.\u001b[0m\u001b[0mndim\u001b[0m\u001b[0;34m-\u001b[0m\u001b[0;36m1\u001b[0m\u001b[0;34m\u001b[0m\u001b[0;34m\u001b[0m\u001b[0m\n\u001b[0;32m-> 5821\u001b[0;31m     \u001b[0;32mreturn\u001b[0m \u001b[0mconcatenate\u001b[0m\u001b[0;34m(\u001b[0m\u001b[0;34m(\u001b[0m\u001b[0marr\u001b[0m\u001b[0;34m,\u001b[0m \u001b[0mvalues\u001b[0m\u001b[0;34m)\u001b[0m\u001b[0;34m,\u001b[0m \u001b[0maxis\u001b[0m\u001b[0;34m=\u001b[0m\u001b[0maxis\u001b[0m\u001b[0;34m)\u001b[0m\u001b[0;34m\u001b[0m\u001b[0;34m\u001b[0m\u001b[0m\n\u001b[0m\u001b[1;32m   5822\u001b[0m \u001b[0;34m\u001b[0m\u001b[0m\n\u001b[1;32m   5823\u001b[0m \u001b[0;34m\u001b[0m\u001b[0m\n",
            "\u001b[0;31mAxisError\u001b[0m: axis 1 is out of bounds for array of dimension 1"
          ]
        }
      ]
    },
    {
      "cell_type": "code",
      "source": [
        "fish_length = [25.4, 26.3, 26.5, 29.0, 29.0, 29.7, 29.7, 30.0, 30.0, 30.7, 31.0, 31.0,\n",
        "                31.5, 32.0, 32.0, 32.0, 33.0, 33.0, 33.5, 33.5, 34.0, 34.0, 34.5, 35.0,\n",
        "                35.0, 35.0, 35.0, 36.0, 36.0, 37.0, 38.5, 38.5, 39.5, 41.0, 41.0, 9.8,\n",
        "                10.5, 10.6, 11.0, 11.2, 11.3, 11.8, 11.8, 12.0, 12.2, 12.4, 13.0, 14.3, 15.0]\n",
        "fish_weight = [242.0, 290.0, 340.0, 363.0, 430.0, 450.0, 500.0, 390.0, 450.0, 500.0, 475.0, 500.0,\n",
        "                500.0, 340.0, 600.0, 600.0, 700.0, 700.0, 610.0, 650.0, 575.0, 685.0, 620.0, 680.0,\n",
        "                700.0, 725.0, 720.0, 714.0, 850.0, 1000.0, 920.0, 955.0, 925.0, 975.0, 950.0, 6.7,\n",
        "                7.5, 7.0, 9.7, 9.8, 8.7, 10.0, 9.9, 9.8, 12.2, 13.4, 12.2, 19.7, 19.9]\n",
        "\n",
        "import numpy as np\n",
        "\n",
        "def kneighbors_numpy(X, queries, k=5, return_distance=True):\n",
        "    \"\"\"\n",
        "    NumPy-only k-nearest-neighbors (euclidean).\n",
        "\n",
        "    Parameters\n",
        "    ----------\n",
        "    X : array-like, shape (n_samples, n_features)\n",
        "        학습(참조) 데이터.\n",
        "    queries : array-like, shape (n_queries, n_features) or (n_features,)\n",
        "        이웃을 찾을 쿼리 포인트(들).\n",
        "    k : int, default=5\n",
        "        반환할 최근접 이웃 개수.\n",
        "    return_distance : bool, default=True\n",
        "        True 이면 (거리, 인덱스) 튜플을, False 이면 인덱스만 반환.\n",
        "\n",
        "    Returns\n",
        "    -------\n",
        "    distances : ndarray, shape (n_queries, k)\n",
        "        쿼리마다 k개 이웃까지의 유클리드 거리\n",
        "        (return_distance=False 인 경우 생략)\n",
        "    indices : ndarray, shape (n_queries, k)\n",
        "        X 내부에서의 이웃 행 인덱스\n",
        "    \"\"\"\n",
        "    X  = np.asarray(X,  dtype=float)\n",
        "    Q  = np.atleast_2d(queries).astype(float)     # (n_queries, n_features)\n",
        "\n",
        "    # 1) 모든 쿼리·샘플 쌍의 거리 행렬 계산  ------------------------\n",
        "    #    diff  : (n_queries, n_samples, n_features)\n",
        "    diff   = X[None, :, :] - Q[:, None, :]\n",
        "    dists  = np.sqrt(np.sum(diff**2, axis=2))     # (n_queries, n_samples)\n",
        "\n",
        "    # 2) 거리 기준 오름차순 인덱스 중 앞 k개 선택 -----------------\n",
        "    idx_k  = np.argsort(dists, axis=1)[:, :k]     # (n_queries, k)\n",
        "\n",
        "    if return_distance:\n",
        "        dist_k = np.take_along_axis(dists, idx_k, axis=1)\n",
        "        return dist_k, idx_k\n",
        "    return idx_k\n",
        "\n",
        "\n",
        "import numpy as np\n",
        "np.column_stack(([1,2,3], [4,5,6]))\n",
        "fish_data = np.column_stack((fish_length, fish_weight))\n",
        "print(fish_data[:5])\n",
        "print(np.ones(5))\n",
        "\n",
        "fish_target = np.concatenate((np.ones(35), np.zeros(14)))\n",
        "print(fish_target)\n",
        "\n",
        "from sklearn.model_selection import train_test_split\n",
        "train_input, test_input, train_target, test_target = train_test_split(\n",
        "    fish_data, fish_target, random_state=42)\n",
        "print(train_input.shape, test_input.shape)\n",
        "print(train_target.shape, test_target.shape)\n",
        "print(test_target)\n",
        "\n",
        "train_input, test_input, train_target, test_target = train_test_split(\n",
        "    fish_data, fish_target, stratify=fish_target, random_state=42)\n",
        "print(test_target)\n",
        "\n",
        "from sklearn.neighbors import KNeighborsClassifier\n",
        "\n",
        "kn = KNeighborsClassifier()\n",
        "kn.fit(train_input, train_target)\n",
        "kn.score(test_input, test_target)\n",
        "print(kn.predict([[25, 150]]))\n",
        "\n",
        "import matplotlib.pyplot as plt\n",
        "plt.scatter(train_input[:,0], train_input[:,1])\n",
        "plt.scatter(25, 150, marker='^')\n",
        "plt.xlabel('length')\n",
        "plt.ylabel('weight')\n",
        "plt.show()\n",
        "\n",
        "distances, indexes = kn.kneighbors([[25, 150]])\n",
        "plt.scatter(train_input[:,0], train_input[:,1])\n",
        "plt.scatter(25, 150, marker='^')\n",
        "plt.scatter(train_input[indexes,0], train_input[indexes,1], marker='D')\n",
        "plt.xlabel('length')\n",
        "plt.ylabel('weight')\n",
        "plt.show()\n",
        "print(train_input[indexes])\n",
        "print(train_target[indexes])\n",
        "print(distances)\n",
        "\n",
        "plt.scatter(train_input[:,0], train_input[:,1])\n",
        "plt.scatter(25, 150, marker='^')\n",
        "plt.scatter(train_input[indexes,0], train_input[indexes,1], marker='D')\n",
        "plt.xlim((0, 1000))\n",
        "plt.xlabel('length')\n",
        "plt.ylabel('weight')\n",
        "plt.show()\n",
        "mean = np.mean(train_input, axis=0)\n",
        "std = np.std(train_input, axis=0)\n",
        "print(mean, std)\n",
        "\n",
        "\n",
        "train_scaled = (train_input - mean) / std\n",
        "plt.scatter(train_scaled[:,0], train_scaled[:,1])\n",
        "plt.scatter(25, 150, marker='^')\n",
        "plt.xlabel('length')\n",
        "plt.ylabel('weight')\n",
        "plt.show()\n",
        "new = ([25, 150] - mean) / std\n",
        "plt.scatter(train_scaled[:,0], train_scaled[:,1])\n",
        "plt.scatter(new[0], new[1], marker='^')\n",
        "plt.xlabel('length')\n",
        "plt.ylabel('weight')\n",
        "plt.show()\n",
        "\n",
        "\n",
        "kn.fit(train_scaled, train_target)\n",
        "test_scaled = (test_input - mean) / std\n",
        "kn.score(test_scaled, test_target)\n",
        "print(kn.predict([new]))\n",
        "\n",
        "distances, indexes = kn.kneighbors([new])\n",
        "#distances, indexes = kneighbors_numpy(train_scaled,train_target, 5)\n",
        "plt.scatter(train_scaled[:,0], train_scaled[:,1])\n",
        "plt.scatter(new[0], new[1], marker='^')\n",
        "plt.scatter(train_scaled[indexes,0], train_scaled[indexes,1], marker='D')\n",
        "plt.xlabel('length')\n",
        "plt.ylabel('weight')\n",
        "plt.show()"
      ],
      "metadata": {
        "id": "A7Hb0sbMFiHG"
      },
      "execution_count": null,
      "outputs": []
    },
    {
      "cell_type": "code",
      "source": [
        "import numpy as np\n",
        "import matplotlib.pyplot as plt\n",
        "\n",
        "# ───────────────────────────────────────────────\n",
        "# 1. 데이터 준비\n",
        "# ───────────────────────────────────────────────\n",
        "fish_length = [25.4, 26.3, 26.5, 29.0, 29.0, 29.7, 29.7, 30.0, 30.0, 30.7,\n",
        "               31.0, 31.0, 31.5, 32.0, 32.0, 32.0, 33.0, 33.0, 33.5, 33.5,\n",
        "               34.0, 34.0, 34.5, 35.0, 35.0, 35.0, 35.0, 36.0, 36.0, 37.0,\n",
        "               38.5, 38.5, 39.5, 41.0, 41.0, 9.8, 10.5, 10.6, 11.0, 11.2,\n",
        "               11.3, 11.8, 11.8, 12.0, 12.2, 12.4, 13.0, 14.3, 15.0]\n",
        "\n",
        "fish_weight = [242.0, 290.0, 340.0, 363.0, 430.0, 450.0, 500.0, 390.0, 450.0, 500.0,\n",
        "               475.0, 500.0, 500.0, 340.0, 600.0, 600.0, 700.0, 700.0, 610.0, 650.0,\n",
        "               575.0, 685.0, 620.0, 680.0, 700.0, 725.0, 720.0, 714.0, 850.0, 1000.0,\n",
        "               920.0, 955.0, 925.0, 975.0, 950.0, 6.7, 7.5, 7.0, 9.7, 9.8,\n",
        "               8.7, 10.0, 9.9, 9.8, 12.2, 13.4, 12.2, 19.7, 19.9]\n",
        "\n",
        "fish_data   = np.column_stack((fish_length, fish_weight))\n",
        "fish_target = np.concatenate((np.ones(35), np.zeros(14)))   # 1: 도미, 0: 빙어\n",
        "\n",
        "# shuffle with stratification like train_test_split\n",
        "rng = np.random.RandomState(42)\n",
        "idx_domi = rng.permutation(np.where(fish_target == 1)[0])\n",
        "idx_smelt = rng.permutation(np.where(fish_target == 0)[0])\n",
        "\n",
        "train_idx = np.concatenate([idx_domi[:25], idx_smelt[:10]])\n",
        "test_idx  = np.concatenate([idx_domi[25:], idx_smelt[10:]])\n",
        "\n",
        "train_input = fish_data[train_idx]\n",
        "test_input  = fish_data[test_idx]\n",
        "train_target = fish_target[train_idx]\n",
        "test_target  = fish_target[test_idx]\n",
        "\n",
        "# ───────────────────────────────────────────────\n",
        "# 2. 표준화\n",
        "# ───────────────────────────────────────────────\n",
        "mean = train_input.mean(axis=0)\n",
        "std  = train_input.std(axis=0)\n",
        "\n",
        "train_scaled = (train_input - mean) / std\n",
        "test_scaled  = (test_input  - mean) / std\n",
        "new_raw  = np.array([25, 150])           # 수상한 도미?\n",
        "new_sc   = (new_raw - mean) / std\n",
        "\n",
        "# ───────────────────────────────────────────────\n",
        "# 3. NumPy 전용 kneighbors 함수\n",
        "# ───────────────────────────────────────────────\n",
        "def kneighbors_numpy(X, query, k=5, return_distance=True):\n",
        "    X = np.asarray(X, float)\n",
        "    q = np.asarray(query, float).reshape(1, -1)\n",
        "    diff = X - q\n",
        "    dist = np.sqrt(np.sum(diff**2, axis=1))\n",
        "    idx = np.argsort(dist)[:k]\n",
        "    if return_distance:\n",
        "        return dist[idx], idx\n",
        "    return idx\n",
        "\n",
        "distances, indexes = kneighbors_numpy(train_scaled, new_sc, k=5)\n",
        "\n",
        "# ───────────────────────────────────────────────\n",
        "# 4. 시각화 (원본 스케일)\n",
        "# ───────────────────────────────────────────────\n",
        "plt.scatter(train_input[:, 0], train_input[:, 1])\n",
        "plt.scatter(new_raw[0], new_raw[1], marker='^')\n",
        "plt.scatter(train_input[indexes, 0], train_input[indexes, 1], marker='D')\n",
        "plt.xlabel('length (cm)')\n",
        "plt.ylabel('weight (g)')\n",
        "plt.title('Original scale')\n",
        "plt.show()\n",
        "\n",
        "# ───────────────────────────────────────────────\n",
        "# 5. 시각화 (standardized scale)\n",
        "# ───────────────────────────────────────────────\n",
        "plt.scatter(train_scaled[:, 0], train_scaled[:, 1])\n",
        "plt.scatter(new_sc[0], new_sc[1], marker='^')\n",
        "plt.scatter(train_scaled[indexes, 0], train_scaled[indexes, 1], marker='D')\n",
        "plt.xlabel('standardized length')\n",
        "plt.ylabel('standardized weight')\n",
        "plt.title('Standardized scale')\n",
        "plt.show()\n"
      ],
      "metadata": {
        "colab": {
          "base_uri": "https://localhost:8080/",
          "height": 927
        },
        "id": "qzwaf-rfHjbJ",
        "outputId": "68890da3-f8fd-47ea-9085-b67386277071"
      },
      "execution_count": null,
      "outputs": [
        {
          "output_type": "display_data",
          "data": {
            "text/plain": [
              "<Figure size 640x480 with 1 Axes>"
            ],
            "image/png": "[encoded data removed]"
          },
          "metadata": {}
        },
        {
          "output_type": "display_data",
          "data": {
            "text/plain": [
              "<Figure size 640x480 with 1 Axes>"
            ],
            "image/png": "[encoded data removed]"
          },
          "metadata": {}
        }
      ]
    },
    {
      "cell_type": "code",
      "source": [
        "import numpy as np\n",
        "\n",
        "# 원본 예제 배열\n",
        "a = np.array([[1, 2, 3],\n",
        "              [4, 5, 6]])\n",
        "b = np.array([[7, 8, 9],\n",
        "              [10, 11, 12]])\n",
        "\n",
        "print(\"원본 배열 a (shape={}):\\n{}\".format(a.shape, a))\n",
        "print(\"\\n원본 배열 b (shape={}):\\n{}\".format(b.shape, b))\n",
        "\n",
        "# axis=0 : 행(가로) 방향으로 이어 붙이기  → 행 수 증가\n",
        "c_axis0 = np.append(a, b, axis=0)\n",
        "print(\"\\nnp.append(a, b, axis=0)  결과 shape={}:\\n{}\".format(c_axis0.shape, c_axis0))\n",
        "\n",
        "# axis=1 : 열(세로) 방향으로 이어 붙이기 → 열 수 증가\n",
        "c_axis1 = np.append(a, b, axis=1)\n",
        "print(\"\\nnp.append(a, b, axis=1)  결과 shape={}:\\n{}\".format(c_axis1.shape, c_axis1))"
      ],
      "metadata": {
        "id": "bED-dcs0MTir",
        "outputId": "1e48cf6c-dd26-41e3-8b68-5bf082ae0de3",
        "colab": {
          "base_uri": "https://localhost:8080/"
        }
      },
      "execution_count": 17,
      "outputs": [
        {
          "output_type": "stream",
          "name": "stdout",
          "text": [
            "원본 배열 a (shape=(2, 3)):\n",
            "[[1 2 3]\n",
            " [4 5 6]]\n",
            "\n",
            "원본 배열 b (shape=(2, 3)):\n",
            "[[ 7  8  9]\n",
            " [10 11 12]]\n",
            "\n",
            "np.append(a, b, axis=0)  결과 shape=(4, 3):\n",
            "[[ 1  2  3]\n",
            " [ 4  5  6]\n",
            " [ 7  8  9]\n",
            " [10 11 12]]\n",
            "\n",
            "np.append(a, b, axis=1)  결과 shape=(2, 6):\n",
            "[[ 1  2  3  7  8  9]\n",
            " [ 4  5  6 10 11 12]]\n"
          ]
        }
      ]
    }
  ]
}