{
  "nbformat": 4,
  "nbformat_minor": 0,
  "metadata": {
    "colab": {
      "provenance": [],
      "authorship_tag": "ABX9TyNHj39BCfgKQOzugnYjrN+b",
      "include_colab_link": true
    },
    "kernelspec": {
      "name": "python3",
      "display_name": "Python 3"
    },
    "language_info": {
      "name": "python"
    }
  },
  "cells": [
    {
      "cell_type": "markdown",
      "metadata": {
        "id": "view-in-github",
        "colab_type": "text"
      },
      "source": [
        "<a href=\"https://colab.research.google.com/github/Tony-Seo/HY_LM/blob/main/LM_TEST.ipynb\" target=\"_parent\"><img src=\"https://colab.research.google.com/assets/colab-badge.svg\" alt=\"Open In Colab\"/></a>"
      ]
    },
    {
      "cell_type": "code",
      "execution_count": 2,
      "metadata": {
        "colab": {
          "base_uri": "https://localhost:8080/"
        },
        "id": "lNyPUOSSpzH3",
        "outputId": "7775e373-18e4-497b-c5c4-39e070df8b99"
      },
      "outputs": [
        {
          "output_type": "stream",
          "name": "stdout",
          "text": [
            "49\n",
            "python is exciting\n"
          ]
        }
      ],
      "source": [
        "print(12+37)\n",
        "print('python' + ' is exciting')"
      ]
    },
    {
      "cell_type": "code",
      "source": [
        "import random\n",
        "\n",
        "a=random.randint(10,20)\n",
        "b=random.randint(10,20)\n",
        "\n",
        "c=a+b\n",
        "print(a,b,c)"
      ],
      "metadata": {
        "colab": {
          "base_uri": "https://localhost:8080/"
        },
        "id": "bWMMib7zrbDl",
        "outputId": "ca0cc701-c758-495b-9daa-5783aa1ea335"
      },
      "execution_count": 7,
      "outputs": [
        {
          "output_type": "stream",
          "name": "stdout",
          "text": [
            "12 19 31\n"
          ]
        }
      ]
    },
    {
      "cell_type": "code",
      "source": [
        "import numpy as np\n",
        "a = np.array([1,2,3,4])\n",
        "print(a)\n",
        "\n",
        "print(a.shape)\n",
        "print(a.ndim)\n",
        "print(a.dtype)\n",
        "print(a.itemsize)\n",
        "print(a.size)"
      ],
      "metadata": {
        "colab": {
          "base_uri": "https://localhost:8080/"
        },
        "id": "JL6Y5cyXsJpC",
        "outputId": "202ea078-a929-4a99-f957-807ea789724e"
      },
      "execution_count": 8,
      "outputs": [
        {
          "output_type": "stream",
          "name": "stdout",
          "text": [
            "[1 2 3 4]\n",
            "(4,)\n",
            "1\n",
            "int64\n",
            "8\n",
            "4\n"
          ]
        }
      ]
    }
  ]
}